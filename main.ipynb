{
 "cells": [
  {
   "cell_type": "markdown",
   "id": "7c9d12d7",
   "metadata": {},
   "source": [
    "### Importacion de librerias"
   ]
  },
  {
   "cell_type": "code",
   "execution_count": 65,
   "id": "a78812fc",
   "metadata": {},
   "outputs": [],
   "source": [
    "import comtradeapicall\n",
    "import requests\n",
    "import pandas as pd"
   ]
  },
  {
   "cell_type": "markdown",
   "id": "0a23b9fe",
   "metadata": {},
   "source": [
    "### 3.3 Verificacion de instalacion"
   ]
  },
  {
   "cell_type": "code",
   "execution_count": 66,
   "id": "486b4138",
   "metadata": {},
   "outputs": [
    {
     "name": "stdout",
     "output_type": "stream",
     "text": [
      "2.32.3\n",
      "2.2.3\n"
     ]
    }
   ],
   "source": [
    "print(requests.__version__)\n",
    "print(pd.__version__)\n"
   ]
  },
  {
   "cell_type": "markdown",
   "id": "ee773373",
   "metadata": {},
   "source": [
    "## 4. Fase 2: Definición de Datos para la Consulta\n",
    "### 4.1 ¿Qué se va a consultar?\n",
    "- Producto: Café (HS 0901)\n",
    "- Reportero: Colombia (170)\n",
    "- Socio: EE.UU. (842)\n",
    "- Años: 2021 y 2022\n",
    "- Frecuencia: Anual\n",
    "- Tipo de flujo: Exportaciones (X)\n"
   ]
  },
  {
   "cell_type": "markdown",
   "id": "bb7cbe6e",
   "metadata": {},
   "source": [
    "## 5. Consulta a la API de Comtrade\n",
    "### 5.2 Código para consulta"
   ]
  },
  {
   "cell_type": "code",
   "execution_count": 67,
   "id": "89140766",
   "metadata": {},
   "outputs": [
    {
     "name": "stderr",
     "output_type": "stream",
     "text": [
      "d:\\Todo\\Documentos\\Santiago\\3_Trabajo Profesional\\Full-Stack-Projects\\comtrade-api-testing\\.venv\\Lib\\site-packages\\comtradeapicall\\PreviewGet.py:166: FutureWarning: The behavior of DataFrame concatenation with empty or all-NA entries is deprecated. In a future version, this will no longer exclude empty or all-NA columns when determining the result dtypes. To retain the old behavior, exclude the relevant entries before the concat operation.\n",
      "  main_df = pandas.concat([main_df, staging_df])\n"
     ]
    },
    {
     "data": {
      "text/html": [
       "<div>\n",
       "<style scoped>\n",
       "    .dataframe tbody tr th:only-of-type {\n",
       "        vertical-align: middle;\n",
       "    }\n",
       "\n",
       "    .dataframe tbody tr th {\n",
       "        vertical-align: top;\n",
       "    }\n",
       "\n",
       "    .dataframe thead th {\n",
       "        text-align: right;\n",
       "    }\n",
       "</style>\n",
       "<table border=\"1\" class=\"dataframe\">\n",
       "  <thead>\n",
       "    <tr style=\"text-align: right;\">\n",
       "      <th></th>\n",
       "      <th>typeCode</th>\n",
       "      <th>freqCode</th>\n",
       "      <th>refPeriodId</th>\n",
       "      <th>refYear</th>\n",
       "      <th>refMonth</th>\n",
       "      <th>period</th>\n",
       "      <th>reporterCode</th>\n",
       "      <th>reporterISO</th>\n",
       "      <th>reporterDesc</th>\n",
       "      <th>flowCode</th>\n",
       "      <th>...</th>\n",
       "      <th>netWgt</th>\n",
       "      <th>isNetWgtEstimated</th>\n",
       "      <th>grossWgt</th>\n",
       "      <th>isGrossWgtEstimated</th>\n",
       "      <th>cifvalue</th>\n",
       "      <th>fobvalue</th>\n",
       "      <th>primaryValue</th>\n",
       "      <th>legacyEstimationFlag</th>\n",
       "      <th>isReported</th>\n",
       "      <th>isAggregate</th>\n",
       "    </tr>\n",
       "  </thead>\n",
       "  <tbody>\n",
       "    <tr>\n",
       "      <th>0</th>\n",
       "      <td>C</td>\n",
       "      <td>A</td>\n",
       "      <td>20210101</td>\n",
       "      <td>2021</td>\n",
       "      <td>52</td>\n",
       "      <td>2021</td>\n",
       "      <td>170</td>\n",
       "      <td>COL</td>\n",
       "      <td>Colombia</td>\n",
       "      <td>X</td>\n",
       "      <td>...</td>\n",
       "      <td>2.932763e+08</td>\n",
       "      <td>False</td>\n",
       "      <td>0.0</td>\n",
       "      <td>False</td>\n",
       "      <td>0.0</td>\n",
       "      <td>1.334163e+09</td>\n",
       "      <td>1.334163e+09</td>\n",
       "      <td>0</td>\n",
       "      <td>False</td>\n",
       "      <td>True</td>\n",
       "    </tr>\n",
       "    <tr>\n",
       "      <th>0</th>\n",
       "      <td>C</td>\n",
       "      <td>A</td>\n",
       "      <td>20220101</td>\n",
       "      <td>2022</td>\n",
       "      <td>52</td>\n",
       "      <td>2022</td>\n",
       "      <td>170</td>\n",
       "      <td>COL</td>\n",
       "      <td>Colombia</td>\n",
       "      <td>X</td>\n",
       "      <td>...</td>\n",
       "      <td>2.817243e+08</td>\n",
       "      <td>False</td>\n",
       "      <td>0.0</td>\n",
       "      <td>False</td>\n",
       "      <td>NaN</td>\n",
       "      <td>1.780554e+09</td>\n",
       "      <td>1.780554e+09</td>\n",
       "      <td>0</td>\n",
       "      <td>False</td>\n",
       "      <td>True</td>\n",
       "    </tr>\n",
       "  </tbody>\n",
       "</table>\n",
       "<p>2 rows × 47 columns</p>\n",
       "</div>"
      ],
      "text/plain": [
       "  typeCode freqCode  refPeriodId  refYear  refMonth period  reporterCode  \\\n",
       "0        C        A     20210101     2021        52   2021           170   \n",
       "0        C        A     20220101     2022        52   2022           170   \n",
       "\n",
       "  reporterISO reporterDesc flowCode  ...        netWgt  isNetWgtEstimated  \\\n",
       "0         COL     Colombia        X  ...  2.932763e+08              False   \n",
       "0         COL     Colombia        X  ...  2.817243e+08              False   \n",
       "\n",
       "  grossWgt isGrossWgtEstimated  cifvalue      fobvalue  primaryValue  \\\n",
       "0      0.0               False       0.0  1.334163e+09  1.334163e+09   \n",
       "0      0.0               False       NaN  1.780554e+09  1.780554e+09   \n",
       "\n",
       "  legacyEstimationFlag isReported  isAggregate  \n",
       "0                    0      False         True  \n",
       "0                    0      False         True  \n",
       "\n",
       "[2 rows x 47 columns]"
      ]
     },
     "execution_count": 67,
     "metadata": {},
     "output_type": "execute_result"
    }
   ],
   "source": [
    "subscription_key = '180479c8b41f4304beca6c0ed83c8d89'\n",
    "\n",
    "\n",
    "mydf = comtradeapicall._getFinalData(\n",
    "    subscription_key,\n",
    "    typeCode='C', freqCode='A', clCode='HS', period='2021,2022',\n",
    "    reporterCode='170', partnerCode='842', cmdCode='0901', flowCode='X',\n",
    "    partner2Code=None, customsCode=None, motCode=None,\n",
    "    maxRecords=2500,\n",
    "    format_output='JSON', aggregateBy=None,\n",
    "    breakdownMode='classic', countOnly=None,\n",
    "    includeDesc=True\n",
    ")\n",
    "\n",
    "mydf.head()"
   ]
  },
  {
   "cell_type": "markdown",
   "id": "12a37b64",
   "metadata": {},
   "source": [
    "## 6. Fase 4: Procesamiento de Datos\n",
    "### 6.1 Exploración del DataFrame\n"
   ]
  },
  {
   "cell_type": "code",
   "execution_count": 68,
   "id": "c6b5d888",
   "metadata": {},
   "outputs": [
    {
     "name": "stdout",
     "output_type": "stream",
     "text": [
      "Index(['typeCode', 'freqCode', 'refPeriodId', 'refYear', 'refMonth', 'period',\n",
      "       'reporterCode', 'reporterISO', 'reporterDesc', 'flowCode', 'flowDesc',\n",
      "       'partnerCode', 'partnerISO', 'partnerDesc', 'partner2Code',\n",
      "       'partner2ISO', 'partner2Desc', 'classificationCode',\n",
      "       'classificationSearchCode', 'isOriginalClassification', 'cmdCode',\n",
      "       'cmdDesc', 'aggrLevel', 'isLeaf', 'customsCode', 'customsDesc',\n",
      "       'mosCode', 'motCode', 'motDesc', 'qtyUnitCode', 'qtyUnitAbbr', 'qty',\n",
      "       'isQtyEstimated', 'altQtyUnitCode', 'altQtyUnitAbbr', 'altQty',\n",
      "       'isAltQtyEstimated', 'netWgt', 'isNetWgtEstimated', 'grossWgt',\n",
      "       'isGrossWgtEstimated', 'cifvalue', 'fobvalue', 'primaryValue',\n",
      "       'legacyEstimationFlag', 'isReported', 'isAggregate'],\n",
      "      dtype='object')\n",
      "        refPeriodId      refYear  refMonth  reporterCode  partnerCode  \\\n",
      "count  2.000000e+00     2.000000       2.0           2.0          2.0   \n",
      "mean   2.021510e+07  2021.500000      52.0         170.0        842.0   \n",
      "std    7.071068e+03     0.707107       0.0           0.0          0.0   \n",
      "min    2.021010e+07  2021.000000      52.0         170.0        842.0   \n",
      "25%    2.021260e+07  2021.250000      52.0         170.0        842.0   \n",
      "50%    2.021510e+07  2021.500000      52.0         170.0        842.0   \n",
      "75%    2.021760e+07  2021.750000      52.0         170.0        842.0   \n",
      "max    2.022010e+07  2022.000000      52.0         170.0        842.0   \n",
      "\n",
      "       partner2Code  aggrLevel  motCode  qtyUnitCode           qty  \\\n",
      "count           2.0        2.0      2.0          2.0  2.000000e+00   \n",
      "mean            0.0        4.0      0.0          8.0  2.875003e+08   \n",
      "std             0.0        0.0      0.0          0.0  8.168503e+06   \n",
      "min             0.0        4.0      0.0          8.0  2.817243e+08   \n",
      "25%             0.0        4.0      0.0          8.0  2.846123e+08   \n",
      "50%             0.0        4.0      0.0          8.0  2.875003e+08   \n",
      "75%             0.0        4.0      0.0          8.0  2.903883e+08   \n",
      "max             0.0        4.0      0.0          8.0  2.932763e+08   \n",
      "\n",
      "       altQtyUnitCode        altQty        netWgt  grossWgt  cifvalue  \\\n",
      "count             2.0  2.000000e+00  2.000000e+00       2.0       1.0   \n",
      "mean              8.0  2.875003e+08  2.875003e+08       0.0       0.0   \n",
      "std               0.0  8.168503e+06  8.168503e+06       0.0       NaN   \n",
      "min               8.0  2.817243e+08  2.817243e+08       0.0       0.0   \n",
      "25%               8.0  2.846123e+08  2.846123e+08       0.0       0.0   \n",
      "50%               8.0  2.875003e+08  2.875003e+08       0.0       0.0   \n",
      "75%               8.0  2.903883e+08  2.903883e+08       0.0       0.0   \n",
      "max               8.0  2.932763e+08  2.932763e+08       0.0       0.0   \n",
      "\n",
      "           fobvalue  primaryValue  legacyEstimationFlag  \n",
      "count  2.000000e+00  2.000000e+00                   2.0  \n",
      "mean   1.557359e+09  1.557359e+09                   0.0  \n",
      "std    3.156466e+08  3.156466e+08                   0.0  \n",
      "min    1.334163e+09  1.334163e+09                   0.0  \n",
      "25%    1.445761e+09  1.445761e+09                   0.0  \n",
      "50%    1.557359e+09  1.557359e+09                   0.0  \n",
      "75%    1.668956e+09  1.668956e+09                   0.0  \n",
      "max    1.780554e+09  1.780554e+09                   0.0  \n"
     ]
    }
   ],
   "source": [
    "print(mydf.columns)\n",
    "print(mydf.describe())\n"
   ]
  },
  {
   "cell_type": "markdown",
   "id": "35c9b84e",
   "metadata": {},
   "source": [
    "## 7. Fase 5: Exportación de Datos\n",
    "### 7.1 Guardar en Excel\n"
   ]
  },
  {
   "cell_type": "code",
   "execution_count": 69,
   "id": "288c4bf1",
   "metadata": {},
   "outputs": [],
   "source": [
    "mydf.to_excel('exportaciones_cafe_col_usa.xlsx', index=False)"
   ]
  },
  {
   "cell_type": "markdown",
   "id": "bcf5d7a8",
   "metadata": {},
   "source": [
    "### 7.2 Verificar creación"
   ]
  },
  {
   "cell_type": "code",
   "execution_count": 70,
   "id": "0b60cd62",
   "metadata": {},
   "outputs": [
    {
     "name": "stdout",
     "output_type": "stream",
     "text": [
      "True\n"
     ]
    }
   ],
   "source": [
    "import os\n",
    "print(os.path.exists('exportaciones_cafe_col_usa.xlsx'))\n"
   ]
  },
  {
   "cell_type": "markdown",
   "id": "aae4423f",
   "metadata": {},
   "source": [
    "## 8. Fase 6: Visualización Gráfica\n",
    "### 8.1 Gráfico de exportaciones\n"
   ]
  },
  {
   "cell_type": "code",
   "execution_count": 71,
   "id": "01db98d2",
   "metadata": {},
   "outputs": [
    {
     "data": {
      "image/png": "[encoded data removed]",
      "text/plain": [
       "<Figure size 640x480 with 1 Axes>"
      ]
     },
     "metadata": {},
     "output_type": "display_data"
    }
   ],
   "source": [
    "import matplotlib.pyplot as plt\n",
    "\n",
    "df_plot = mydf.groupby('period')['primaryValue'].sum()\n",
    "df_plot.plot(kind='bar', color='skyblue')\n",
    "plt.title('Exportaciones de Café desde Colombia a USA (2021-2022)')\n",
    "plt.xlabel('Año')\n",
    "plt.ylabel('Valor Comercio (USD)')\n",
    "plt.grid(True)\n",
    "plt.show()\n"
   ]
  },
  {
   "cell_type": "markdown",
   "id": "da1075df",
   "metadata": {},
   "source": [
    "## 9. Fase 7: Almacenamiento en SQLite\n",
    "### 9.1 Crear base de datos\n"
   ]
  },
  {
   "cell_type": "code",
   "execution_count": 72,
   "id": "b0f7c229",
   "metadata": {},
   "outputs": [],
   "source": [
    "import sqlite3\n",
    "conn = sqlite3.connect('comtrade.db')\n"
   ]
  },
  {
   "cell_type": "markdown",
   "id": "6364ceb0",
   "metadata": {},
   "source": [
    "### 9.2 Insertar tabla"
   ]
  },
  {
   "cell_type": "code",
   "execution_count": 73,
   "id": "ed12cae1",
   "metadata": {},
   "outputs": [
    {
     "data": {
      "text/plain": [
       "2"
      ]
     },
     "execution_count": 73,
     "metadata": {},
     "output_type": "execute_result"
    }
   ],
   "source": [
    "mydf.to_sql('exportaciones_cafe_col_usa', conn, if_exists='replace', index=False)"
   ]
  },
  {
   "cell_type": "markdown",
   "id": "624a7d45",
   "metadata": {},
   "source": [
    "### 9.3 Consultar base"
   ]
  },
  {
   "cell_type": "code",
   "execution_count": 74,
   "id": "8e290543",
   "metadata": {},
   "outputs": [
    {
     "name": "stdout",
     "output_type": "stream",
     "text": [
      "  typeCode freqCode  refPeriodId  refYear  refMonth period  reporterCode  \\\n",
      "0        C        A     20210101     2021        52   2021           170   \n",
      "1        C        A     20220101     2022        52   2022           170   \n",
      "\n",
      "  reporterISO reporterDesc flowCode  ...        netWgt  isNetWgtEstimated  \\\n",
      "0         COL     Colombia        X  ...  2.932763e+08                  0   \n",
      "1         COL     Colombia        X  ...  2.817243e+08                  0   \n",
      "\n",
      "  grossWgt isGrossWgtEstimated  cifvalue      fobvalue  primaryValue  \\\n",
      "0      0.0                   0       0.0  1.334163e+09  1.334163e+09   \n",
      "1      0.0                   0       NaN  1.780554e+09  1.780554e+09   \n",
      "\n",
      "  legacyEstimationFlag isReported  isAggregate  \n",
      "0                    0          0            1  \n",
      "1                    0          0            1  \n",
      "\n",
      "[2 rows x 47 columns]\n"
     ]
    }
   ],
   "source": [
    "import pandas as pd\n",
    "consulta = pd.read_sql_query(\"SELECT * FROM exportaciones_cafe_col_usa\", conn)\n",
    "print(consulta.head())\n"
   ]
  },
  {
   "cell_type": "markdown",
   "id": "a3c70b79",
   "metadata": {},
   "source": [
    "### 9.4 Cerrar conexión"
   ]
  },
  {
   "cell_type": "code",
   "execution_count": 75,
   "id": "02407eb1",
   "metadata": {},
   "outputs": [],
   "source": [
    "conn.close()"
   ]
  },
  {
   "cell_type": "markdown",
   "id": "5c787ae9",
   "metadata": {},
   "source": [
    "## 10. Taller de Ejercicios Guiados\n",
    "#### Ejercicio 1: Comparar productos\n",
    "- Productos: Banano (HS 0803) y Azúcar (HS 1701).\n",
    "- País: Colombia > USA.\n",
    "- Año: 2022.\n",
    "- Exportar resultados a Excel.\n",
    "- Graficar comparación de valores.\n",
    "- Guardar en SQLite.\n"
   ]
  },
  {
   "cell_type": "markdown",
   "id": "0781578f",
   "metadata": {},
   "source": [
    "#### Comparar productos"
   ]
  },
  {
   "cell_type": "code",
   "execution_count": 76,
   "id": "be0b07d7",
   "metadata": {},
   "outputs": [
    {
     "data": {
      "text/html": [
       "<div>\n",
       "<style scoped>\n",
       "    .dataframe tbody tr th:only-of-type {\n",
       "        vertical-align: middle;\n",
       "    }\n",
       "\n",
       "    .dataframe tbody tr th {\n",
       "        vertical-align: top;\n",
       "    }\n",
       "\n",
       "    .dataframe thead th {\n",
       "        text-align: right;\n",
       "    }\n",
       "</style>\n",
       "<table border=\"1\" class=\"dataframe\">\n",
       "  <thead>\n",
       "    <tr style=\"text-align: right;\">\n",
       "      <th></th>\n",
       "      <th>period</th>\n",
       "      <th>Producto</th>\n",
       "      <th>primaryValue</th>\n",
       "    </tr>\n",
       "  </thead>\n",
       "  <tbody>\n",
       "    <tr>\n",
       "      <th>0</th>\n",
       "      <td>2022</td>\n",
       "      <td>Banano</td>\n",
       "      <td>2.185613e+08</td>\n",
       "    </tr>\n",
       "    <tr>\n",
       "      <th>1</th>\n",
       "      <td>2022</td>\n",
       "      <td>Azúcar</td>\n",
       "      <td>9.760218e+07</td>\n",
       "    </tr>\n",
       "  </tbody>\n",
       "</table>\n",
       "</div>"
      ],
      "text/plain": [
       "  period Producto  primaryValue\n",
       "0   2022   Banano  2.185613e+08\n",
       "1   2022   Azúcar  9.760218e+07"
      ]
     },
     "execution_count": 76,
     "metadata": {},
     "output_type": "execute_result"
    }
   ],
   "source": [
    "banano_df = comtradeapicall._getFinalData(\n",
    "    subscription_key,\n",
    "    typeCode='C', freqCode='A', clCode='HS', period='2022',\n",
    "    reporterCode='170', partnerCode='842', cmdCode='0803', flowCode='X',\n",
    "    partner2Code=None, customsCode=None, motCode=None,\n",
    "    maxRecords=2500,\n",
    "    format_output='JSON', aggregateBy=None,\n",
    "    breakdownMode='classic', countOnly=None,\n",
    "    includeDesc=True\n",
    ")\n",
    "\n",
    "azucar_df = comtradeapicall._getFinalData(\n",
    "    subscription_key,\n",
    "    typeCode='C', freqCode='A', clCode='HS', period='2022',\n",
    "    reporterCode='170', partnerCode='842', cmdCode='1701', flowCode='X',\n",
    "    partner2Code=None, customsCode=None, motCode=None,\n",
    "    maxRecords=2500,\n",
    "    format_output='JSON', aggregateBy=None,\n",
    "    breakdownMode='classic', countOnly=None,\n",
    "    includeDesc=True\n",
    ")\n",
    "\n",
    "banano_df['Producto'] = 'Banano'\n",
    "azucar_df['Producto'] = 'Azúcar'\n",
    "\n",
    "combined_df = pd.concat([banano_df, azucar_df], ignore_index=True)\n",
    "\n",
    "combined_df = combined_df[['period', 'Producto', 'primaryValue']]\n",
    "\n",
    "combined_df.head()"
   ]
  },
  {
   "cell_type": "markdown",
   "id": "282e14ff",
   "metadata": {},
   "source": [
    "#### Exportar resultados a Excel."
   ]
  },
  {
   "cell_type": "code",
   "execution_count": 77,
   "id": "6903ef9e",
   "metadata": {},
   "outputs": [
    {
     "name": "stdout",
     "output_type": "stream",
     "text": [
      "Datos exportados a 'exportaciones_banano_azucar_2022.xlsx'\n"
     ]
    }
   ],
   "source": [
    "combined_df.to_excel('exportaciones_banano_azucar_2022.xlsx', index=False)\n",
    "print(\"Datos exportados a 'exportaciones_banano_azucar_2022.xlsx'\")\n"
   ]
  },
  {
   "cell_type": "markdown",
   "id": "806fa929",
   "metadata": {},
   "source": [
    "#### Graficar comparación de valores."
   ]
  },
  {
   "cell_type": "code",
   "execution_count": 78,
   "id": "1fbac3d4",
   "metadata": {},
   "outputs": [
    {
     "data": {
      "image/png": "[encoded data removed]",
      "text/plain": [
       "<Figure size 640x480 with 1 Axes>"
      ]
     },
     "metadata": {},
     "output_type": "display_data"
    }
   ],
   "source": [
    "df_plot = combined_df.groupby('Producto')['primaryValue'].sum()\n",
    "df_plot.plot(kind='bar', color=['yellow', 'brown'])\n",
    "plt.title('Comparación de Exportaciones: Banano vs Azúcar (2022)')\n",
    "plt.xlabel('Producto')\n",
    "plt.ylabel('Valor Comercio (USD)')\n",
    "plt.grid(True)\n",
    "plt.show()"
   ]
  },
  {
   "cell_type": "markdown",
   "id": "7a0f11af",
   "metadata": {},
   "source": [
    "#### Guardar en SQLite."
   ]
  },
  {
   "cell_type": "code",
   "execution_count": 79,
   "id": "3f92f176",
   "metadata": {},
   "outputs": [
    {
     "name": "stdout",
     "output_type": "stream",
     "text": [
      "Datos guardados en la base de datos SQLite 'comtrade.db'\n"
     ]
    }
   ],
   "source": [
    "conn = sqlite3.connect('comtrade.db')\n",
    "combined_df.to_sql('exportaciones_banano_azucar', conn, if_exists='replace', index=False)\n",
    "print(\"Datos guardados en la base de datos SQLite 'comtrade.db'\")\n",
    "conn.close()"
   ]
  },
  {
   "cell_type": "markdown",
   "id": "a9e71df1",
   "metadata": {},
   "source": [
    "## Ejercicio 2: Analizar importaciones\n",
    "- Producto: Derivados del petróleo (HS 27).\n",
    "- Origen: EE.UU. > Colombia.\n",
    "- Año: 2022.\n",
    "- Analizar valor total y peso neto (si está disponible).\n",
    "- Graficar evolución.\n",
    "- Almacenar en base de datos.\n"
   ]
  },
  {
   "cell_type": "markdown",
   "id": "aedaeb21",
   "metadata": {},
   "source": [
    "#### Analizar valor total y peso neto "
   ]
  },
  {
   "cell_type": "code",
   "execution_count": 80,
   "id": "d6f16614",
   "metadata": {},
   "outputs": [
    {
     "name": "stdout",
     "output_type": "stream",
     "text": [
      "Valor total de importaciones: $5,849,160,385.50 USD\n",
      "Peso total de importaciones: 0.00 kg\n"
     ]
    }
   ],
   "source": [
    "petroleo_df = comtradeapicall._getFinalData(\n",
    "    subscription_key,\n",
    "    typeCode='C', freqCode='A', clCode='HS', period='2022',\n",
    "    reporterCode='170', partnerCode='842', cmdCode='27', flowCode='M',\n",
    "    partner2Code=None, customsCode=None, motCode=None,\n",
    "    maxRecords=2500,\n",
    "    format_output='JSON', aggregateBy=None,\n",
    "    breakdownMode='classic', countOnly=None,\n",
    "    includeDesc=True\n",
    ")\n",
    "\n",
    "# Filtrar columnas relevantes\n",
    "petroleo_df = petroleo_df[['period', 'primaryValue', 'netWgt']]\n",
    "\n",
    "# Calcular el valor total y el peso neto\n",
    "valor_total = petroleo_df['primaryValue'].sum()\n",
    "peso_total = petroleo_df['netWgt'].sum()\n",
    "\n",
    "print(f\"Valor total de importaciones: ${valor_total:,.2f} USD\")\n",
    "print(f\"Peso total de importaciones: {peso_total:,.2f} kg\")"
   ]
  },
  {
   "cell_type": "markdown",
   "id": "c3bc6046",
   "metadata": {},
   "source": [
    "#### Graficar evolución"
   ]
  },
  {
   "cell_type": "code",
   "execution_count": 81,
   "id": "11340d01",
   "metadata": {},
   "outputs": [
    {
     "data": {
      "image/png": "[encoded data removed]",
      "text/plain": [
       "<Figure size 1000x600 with 1 Axes>"
      ]
     },
     "metadata": {},
     "output_type": "display_data"
    }
   ],
   "source": [
    "df_plot = petroleo_df.groupby('period').sum()\n",
    "df_plot[['primaryValue', 'netWgt']].plot(kind='bar', figsize=(10, 6), color=['blue', 'green'])\n",
    "plt.title('Evolución de Importaciones de Derivados del Petróleo (2022)')\n",
    "plt.xlabel('Período')\n",
    "plt.ylabel('Valor / Peso')\n",
    "plt.legend(['Valor Comercio (USD)', 'Peso Neto (kg)'])\n",
    "plt.grid(True)\n",
    "plt.show()\n",
    "\n"
   ]
  },
  {
   "cell_type": "markdown",
   "id": "fe5206aa",
   "metadata": {},
   "source": [
    "#### Almacenar en base de datos"
   ]
  },
  {
   "cell_type": "code",
   "execution_count": 82,
   "id": "37ec7c90",
   "metadata": {},
   "outputs": [
    {
     "name": "stdout",
     "output_type": "stream",
     "text": [
      "Datos guardados en la base de datos SQLite 'comtrade.db'\n"
     ]
    }
   ],
   "source": [
    "conn = sqlite3.connect('comtrade.db')\n",
    "petroleo_df.to_sql('importaciones_petroleo', conn, if_exists='replace', index=False)\n",
    "print(\"Datos guardados en la base de datos SQLite 'comtrade.db'\")\n",
    "conn.close()"
   ]
  }
 ],
 "metadata": {
  "kernelspec": {
   "display_name": ".venv",
   "language": "python",
   "name": "python3"
  },
  "language_info": {
   "codemirror_mode": {
    "name": "ipython",
    "version": 3
   },
   "file_extension": ".py",
   "mimetype": "text/x-python",
   "name": "python",
   "nbconvert_exporter": "python",
   "pygments_lexer": "ipython3",
   "version": "3.13.3"
  }
 },
 "nbformat": 4,
 "nbformat_minor": 5
}
